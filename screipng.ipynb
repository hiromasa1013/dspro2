{
 "cells": [
  {
   "cell_type": "code",
   "execution_count": null,
   "metadata": {},
   "outputs": [
    {
     "name": "stdout",
     "output_type": "stream",
     "text": [
      "8.7\n",
      "8.3\n",
      "9.1\n",
      "8.7\n",
      "8.1\n"
     ]
    }
   ],
   "source": [
    "import requests\n",
    "from bs4 import BeautifulSoup\n",
    "res = requests.get(\"https://www.data.jma.go.jp/stats/etrn/view/daily_s1.php?prec_no=44&block_no=47662&year=2023&month=12&day=&view=\")\n",
    "soup = BeautifulSoup(res.text, 'html.parser')\n",
    "raw_data = soup.find_all(\"td\", class_ = \"data_0_0\")\n",
    "for i in range(5,100,20):\n",
    "    print(raw_data[i].text)"
   ]
  },
  {
   "cell_type": "code",
   "execution_count": 7,
   "metadata": {},
   "outputs": [
    {
     "name": "stdout",
     "output_type": "stream",
     "text": [
      "8.7\n",
      "8.3\n",
      "9.1\n",
      "8.7\n",
      "8.1\n",
      "11.4\n",
      "12.9\n",
      "12.3\n",
      "11.9\n",
      "13.0\n",
      "13.4\n",
      "11.9\n",
      "10.8\n",
      "10.2\n",
      "11.0\n",
      "17.0\n",
      "11.2\n",
      "7.0\n",
      "7.0\n",
      "8.5\n",
      "7.7\n",
      "5.3\n",
      "5.0\n",
      "4.9\n",
      "6.3\n",
      "7.6\n",
      "8.4\n",
      "7.0\n",
      "7.8\n",
      "9.0\n",
      "9.2\n"
     ]
    }
   ],
   "source": [
    "import requests\n",
    "from bs4 import BeautifulSoup\n",
    "\n",
    "# URLの年月日を指定\n",
    "year = 2023\n",
    "month = 12\n",
    "\n",
    "# URLの組み立て\n",
    "url = f\"https://www.data.jma.go.jp/stats/etrn/view/daily_s1.php?prec_no=44&block_no=47662&year={year}&month={month}&day=&view=\"\n",
    "\n",
    "# ページの取得\n",
    "res = requests.get(url)\n",
    "soup = BeautifulSoup(res.text, 'html.parser')\n",
    "\n",
    "# 最低気温のデータを抽出\n",
    "min_temp_data = soup.find_all(\"td\", class_=\"data_0_0\")[5::20]\n",
    "\n",
    "# 結果の表示\n",
    "for data in min_temp_data:\n",
    "    print(data.text)\n"
   ]
  },
  {
   "cell_type": "code",
   "execution_count": 19,
   "metadata": {},
   "outputs": [
    {
     "name": "stdout",
     "output_type": "stream",
     "text": [
      "6.4\n",
      "4.1\n",
      "4.1\n",
      "4.7\n",
      "5.7\n",
      "7.1\n",
      "7.1\n",
      "6.0\n",
      "6.4\n",
      "7.2\n",
      "11.3\n",
      "9.7\n",
      "7.3\n",
      "6.5\n",
      "7.1\n",
      "10.8\n",
      "5.9\n",
      "3.8\n",
      "3.4\n",
      "4.6\n",
      "3.3\n",
      "1.5\n",
      "0.1\n",
      "2.0\n",
      "1.0\n",
      "2.6\n",
      "4.3\n",
      "4.4\n",
      "2.2\n",
      "4.4\n"
     ]
    }
   ],
   "source": [
    "import requests\n",
    "from bs4 import BeautifulSoup\n",
    "res = requests.get(\"https://www.data.jma.go.jp/stats/etrn/view/daily_s1.php?prec_no=44&block_no=47662&year=2023&month=12&day=&view=\")\n",
    "soup = BeautifulSoup(res.text, 'html.parser')\n",
    "raw_data = soup.find_all(\"td\", class_ = \"data_0_0\")\n",
    "for i in range(7,600,20):\n",
    "    print(raw_data[i].text)"
   ]
  },
  {
   "cell_type": "code",
   "execution_count": 18,
   "metadata": {},
   "outputs": [
    {
     "name": "stdout",
     "output_type": "stream",
     "text": [
      "54\n",
      "60\n",
      "58\n",
      "53\n",
      "64\n",
      "77\n",
      "60\n",
      "49\n",
      "66\n",
      "65\n",
      "74\n",
      "92\n",
      "52\n",
      "62\n",
      "82\n",
      "71\n",
      "36\n",
      "36\n",
      "53\n",
      "59\n",
      "41\n",
      "38\n",
      "47\n",
      "55\n",
      "56\n",
      "58\n",
      "50\n",
      "56\n",
      "61\n",
      "63\n"
     ]
    }
   ],
   "source": [
    "import requests\n",
    "from bs4 import BeautifulSoup\n",
    "res = requests.get(\"https://www.data.jma.go.jp/stats/etrn/view/daily_s1.php?prec_no=44&block_no=47662&year=2023&month=12&day=&view=\")\n",
    "soup = BeautifulSoup(res.text, 'html.parser')\n",
    "raw_data = soup.find_all(\"td\", class_ = \"data_0_0\")\n",
    "for i in range(8,600,20):\n",
    "    print(raw_data[i].text)"
   ]
  }
 ],
 "metadata": {
  "kernelspec": {
   "display_name": "Python 3",
   "language": "python",
   "name": "python3"
  },
  "language_info": {
   "codemirror_mode": {
    "name": "ipython",
    "version": 3
   },
   "file_extension": ".py",
   "mimetype": "text/x-python",
   "name": "python",
   "nbconvert_exporter": "python",
   "pygments_lexer": "ipython3",
   "version": "3.9.10"
  }
 },
 "nbformat": 4,
 "nbformat_minor": 2
}
