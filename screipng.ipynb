{
 "cells": [
  {
   "cell_type": "code",
   "execution_count": 1,
   "metadata": {},
   "outputs": [],
   "source": [
    "#最低気温\n",
    "import requests\n",
    "from bs4 import BeautifulSoup\n",
    "res = requests.get(\"https://www.data.jma.go.jp/stats/etrn/view/daily_s1.php?prec_no=44&block_no=47662&year=2023&month=12&day=&view=\")\n",
    "soup = BeautifulSoup(res.text, 'html.parser')\n",
    "raw_data = soup.find_all(\"td\", class_ = \"data_0_0\")\n",
    "for i in range(7,500,20):\n",
    "    print(raw_data[i].text)\n"
   ]
  },
  {
   "cell_type": "code",
   "execution_count": 48,
   "metadata": {},
   "outputs": [
    {
     "name": "stdout",
     "output_type": "stream",
     "text": [
      "[6.4, 4.1, 4.1, 4.7, 5.7, 7.1, 7.1, 6.0, 6.4, 7.2, 11.3, 9.7, 7.3, 6.5, 7.1, 10.8, 5.9, 3.8, 3.4, 4.6, 3.3, 1.5, 0.1, 2.0, 1.0]\n"
     ]
    }
   ],
   "source": [
    "import requests\n",
    "from bs4 import BeautifulSoup\n",
    "\n",
    "res = requests.get(\"https://www.data.jma.go.jp/stats/etrn/view/daily_s1.php?prec_no=44&block_no=47662&year=2023&month=12&day=&view=\")\n",
    "soup = BeautifulSoup(res.text, 'html.parser')\n",
    "raw_data = soup.find_all(\"td\", class_=\"data_0_0\")\n",
    "\n",
    "temperature_list = []\n",
    "\n",
    "for i in range(7, 500, 20):\n",
    "    temperature_list.append(float(raw_data[i].text))\n",
    "\n",
    "print(temperature_list)\n"
   ]
  },
  {
   "cell_type": "code",
   "execution_count": 42,
   "metadata": {},
   "outputs": [
    {
     "name": "stdout",
     "output_type": "stream",
     "text": [
      "54\n",
      "60\n",
      "58\n",
      "53\n",
      "64\n",
      "77\n",
      "60\n",
      "49\n",
      "66\n",
      "65\n",
      "74\n",
      "92\n",
      "52\n",
      "62\n",
      "82\n",
      "71\n",
      "36\n",
      "36\n",
      "53\n",
      "59\n",
      "41\n",
      "38\n",
      "47\n",
      "55\n",
      "56\n"
     ]
    }
   ],
   "source": [
    "#平均湿度\n",
    "import requests\n",
    "from bs4 import BeautifulSoup\n",
    "res = requests.get(\"https://www.data.jma.go.jp/stats/etrn/view/daily_s1.php?prec_no=44&block_no=47662&year=2023&month=12&day=&view=\")\n",
    "soup = BeautifulSoup(res.text, 'html.parser')\n",
    "raw_data = soup.find_all(\"td\", class_ = \"data_0_0\")\n",
    "for i in range(8,500,20):\n",
    "    print(raw_data[i].text)"
   ]
  },
  {
   "cell_type": "code",
   "execution_count": 51,
   "metadata": {},
   "outputs": [
    {
     "name": "stdout",
     "output_type": "stream",
     "text": [
      "[54, 60, 58, 53, 64, 77, 60, 49, 66, 65, 74, 92, 52, 62, 82, 71, 36, 36, 53, 59, 41, 38, 47, 55, 56]\n"
     ]
    }
   ],
   "source": [
    "import requests\n",
    "from bs4 import BeautifulSoup\n",
    "\n",
    "res = requests.get(\"https://www.data.jma.go.jp/stats/etrn/view/daily_s1.php?prec_no=44&block_no=47662&year=2023&month=12&day=&view=\")\n",
    "soup = BeautifulSoup(res.text, 'html.parser')\n",
    "raw_data = soup.find_all(\"td\", class_=\"data_0_0\")\n",
    "\n",
    "# 湿度データをリストに格納\n",
    "humidity_data = [int(raw_data[i].text) for i in range(8, 500, 20)]\n",
    "\n",
    "# リストを表示\n",
    "print(humidity_data)\n"
   ]
  },
  {
   "cell_type": "code",
   "execution_count": 1,
   "metadata": {},
   "outputs": [],
   "source": [
    "import sqlite3\n",
    "conn = sqlite3.connect('/Users/hiromasa/dspro2/weather_data.db')\n",
    "path = '/Users/hiromasa/dspro2/weather_data.db'\n",
    "conn = sqlite3.connect(path)\n",
    "cur = conn.cursor()\n",
    "\n",
    "cur.execute('''\n",
    "    CREATE TABLE IF NOT EXISTS weather (\n",
    "        id INTEGER PRIMARY KEY AUTOINCREMENT,\n",
    "        suiminzikan,\n",
    "        date TEXT,\n",
    "        saitei_kion FLOAT,\n",
    "        situdo INTEGER\n",
    "    )\n",
    "''')\n",
    "\n",
    "conn.commit()\n",
    "conn.close()"
   ]
  },
  {
   "cell_type": "code",
   "execution_count": 2,
   "metadata": {},
   "outputs": [],
   "source": [
    "import sqlite3\n",
    "\n",
    "# 仮の最低気温、平均湿度、睡眠時間のリスト\n",
    "saitei_kion_list = [6.4, 4.1, 4.1, 4.7, 5.7, 7.1, 7.1, 6.0, 6.4, 7.2, 11.3, 9.7, 7.3, 6.5, 7.1, 10.8, 5.9, 3.8, 3.4, 4.6, 3.3, 1.5, 0.1, 2.0, 1.0]\n",
    "situdo_list = [54, 60, 58, 53, 64, 77, 60, 49, 66, 65, 74, 92, 52, 62, 82, 71, 36, 36, 53, 59, 41, 38, 47, 55, 56]\n",
    "sleep_time_list = [473, 401, 445, 345, 386, 361, 422, 341, 335, 486, 501, 503, 300, 321, 284, 452, 517, 284, 381, 379, 409, 395, 483, 358, 510]\n",
    "\n",
    "\n",
    "conn = sqlite3.connect(path)\n",
    "cur = conn.cursor()\n",
    "\n",
    "\n",
    "for i in range(len(saitei_kion_list)):\n",
    "    cur.execute('''\n",
    "        INSERT INTO weather (date, saitei_kion, situdo, suiminzikan)\n",
    "        VALUES (?, ?, ?, ?)''', (f'2023-12-{i+1}', saitei_kion_list[i], situdo_list[i], sleep_time_list[i]))\n",
    "\n",
    "\n",
    "conn.commit()\n",
    "conn.close()\n"
   ]
  },
  {
   "cell_type": "code",
   "execution_count": 8,
   "metadata": {},
   "outputs": [
    {
     "name": "stderr",
     "output_type": "stream",
     "text": [
      "/Users/hiromasa/.pyenv/versions/3.9.10/lib/python3.9/site-packages/IPython/core/pylabtools.py:152: UserWarning: Glyph 30561 (\\N{CJK UNIFIED IDEOGRAPH-7761}) missing from current font.\n",
      "  fig.canvas.print_figure(bytes_io, **kw)\n",
      "/Users/hiromasa/.pyenv/versions/3.9.10/lib/python3.9/site-packages/IPython/core/pylabtools.py:152: UserWarning: Glyph 30496 (\\N{CJK UNIFIED IDEOGRAPH-7720}) missing from current font.\n",
      "  fig.canvas.print_figure(bytes_io, **kw)\n",
      "/Users/hiromasa/.pyenv/versions/3.9.10/lib/python3.9/site-packages/IPython/core/pylabtools.py:152: UserWarning: Glyph 26178 (\\N{CJK UNIFIED IDEOGRAPH-6642}) missing from current font.\n",
      "  fig.canvas.print_figure(bytes_io, **kw)\n",
      "/Users/hiromasa/.pyenv/versions/3.9.10/lib/python3.9/site-packages/IPython/core/pylabtools.py:152: UserWarning: Glyph 38291 (\\N{CJK UNIFIED IDEOGRAPH-9593}) missing from current font.\n",
      "  fig.canvas.print_figure(bytes_io, **kw)\n",
      "/Users/hiromasa/.pyenv/versions/3.9.10/lib/python3.9/site-packages/IPython/core/pylabtools.py:152: UserWarning: Glyph 27671 (\\N{CJK UNIFIED IDEOGRAPH-6C17}) missing from current font.\n",
      "  fig.canvas.print_figure(bytes_io, **kw)\n",
      "/Users/hiromasa/.pyenv/versions/3.9.10/lib/python3.9/site-packages/IPython/core/pylabtools.py:152: UserWarning: Glyph 28201 (\\N{CJK UNIFIED IDEOGRAPH-6E29}) missing from current font.\n",
      "  fig.canvas.print_figure(bytes_io, **kw)\n",
      "/Users/hiromasa/.pyenv/versions/3.9.10/lib/python3.9/site-packages/IPython/core/pylabtools.py:152: UserWarning: Glyph 12392 (\\N{HIRAGANA LETTER TO}) missing from current font.\n",
      "  fig.canvas.print_figure(bytes_io, **kw)\n",
      "/Users/hiromasa/.pyenv/versions/3.9.10/lib/python3.9/site-packages/IPython/core/pylabtools.py:152: UserWarning: Glyph 12398 (\\N{HIRAGANA LETTER NO}) missing from current font.\n",
      "  fig.canvas.print_figure(bytes_io, **kw)\n",
      "/Users/hiromasa/.pyenv/versions/3.9.10/lib/python3.9/site-packages/IPython/core/pylabtools.py:152: UserWarning: Glyph 38306 (\\N{CJK UNIFIED IDEOGRAPH-95A2}) missing from current font.\n",
      "  fig.canvas.print_figure(bytes_io, **kw)\n",
      "/Users/hiromasa/.pyenv/versions/3.9.10/lib/python3.9/site-packages/IPython/core/pylabtools.py:152: UserWarning: Glyph 20418 (\\N{CJK UNIFIED IDEOGRAPH-4FC2}) missing from current font.\n",
      "  fig.canvas.print_figure(bytes_io, **kw)\n",
      "/Users/hiromasa/.pyenv/versions/3.9.10/lib/python3.9/site-packages/IPython/core/pylabtools.py:152: UserWarning: Glyph 26368 (\\N{CJK UNIFIED IDEOGRAPH-6700}) missing from current font.\n",
      "  fig.canvas.print_figure(bytes_io, **kw)\n",
      "/Users/hiromasa/.pyenv/versions/3.9.10/lib/python3.9/site-packages/IPython/core/pylabtools.py:152: UserWarning: Glyph 20302 (\\N{CJK UNIFIED IDEOGRAPH-4F4E}) missing from current font.\n",
      "  fig.canvas.print_figure(bytes_io, **kw)\n"
     ]
    },
    {
     "data": {
      "image/png": "[encoded data removed]",
      "text/plain": [
       "<Figure size 640x480 with 1 Axes>"
      ]
     },
     "metadata": {},
     "output_type": "display_data"
    }
   ],
   "source": [
    "import sqlite3\n",
    "import matplotlib.pyplot as plt\n",
    "\n",
    "# SQLiteデータベースに接続\n",
    "conn = sqlite3.connect('/Users/hiromasa/dspro2/weather_data.db')\n",
    "cur = conn.cursor()\n",
    "\n",
    "# データを取得\n",
    "cur.execute('SELECT saitei_kion,suiminzikan FROM weather')\n",
    "data = cur.fetchall()\n",
    "\n",
    "# 接続を閉じる\n",
    "conn.close()\n",
    "\n",
    "# データを抽出\n",
    "temperatures = [float(row[0]) for row in data]\n",
    "sleep_times = [row[1] for row in data]\n",
    "\n",
    "# 散布図を描く\n",
    "plt.scatter(temperatures, sleep_times)\n",
    "plt.title('気温と睡眠時間の関係')\n",
    "plt.xlabel('最低気温')\n",
    "plt.ylabel('睡眠時間')\n",
    "plt.show()\n"
   ]
  },
  {
   "cell_type": "code",
   "execution_count": null,
   "metadata": {},
   "outputs": [],
   "source": [
    "#考察\n",
    "#相関は感じられない"
   ]
  }
 ],
 "metadata": {
  "kernelspec": {
   "display_name": "Python 3",
   "language": "python",
   "name": "python3"
  },
  "language_info": {
   "codemirror_mode": {
    "name": "ipython",
    "version": 3
   },
   "file_extension": ".py",
   "mimetype": "text/x-python",
   "name": "python",
   "nbconvert_exporter": "python",
   "pygments_lexer": "ipython3",
   "version": "3.9.10"
  }
 },
 "nbformat": 4,
 "nbformat_minor": 2
}
