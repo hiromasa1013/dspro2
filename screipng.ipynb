{
 "cells": [
  {
   "cell_type": "code",
   "execution_count": 19,
   "metadata": {},
   "outputs": [
    {
     "name": "stdout",
     "output_type": "stream",
     "text": [
      "6.4\n",
      "4.1\n",
      "4.1\n",
      "4.7\n",
      "5.7\n",
      "7.1\n",
      "7.1\n",
      "6.0\n",
      "6.4\n",
      "7.2\n",
      "11.3\n",
      "9.7\n",
      "7.3\n",
      "6.5\n",
      "7.1\n",
      "10.8\n",
      "5.9\n",
      "3.8\n",
      "3.4\n",
      "4.6\n",
      "3.3\n",
      "1.5\n",
      "0.1\n",
      "2.0\n",
      "1.0\n",
      "2.6\n",
      "4.3\n",
      "4.4\n",
      "2.2\n",
      "4.4\n"
     ]
    }
   ],
   "source": [
    "#最低気温\n",
    "import requests\n",
    "from bs4 import BeautifulSoup\n",
    "res = requests.get(\"https://www.data.jma.go.jp/stats/etrn/view/daily_s1.php?prec_no=44&block_no=47662&year=2023&month=12&day=&view=\")\n",
    "soup = BeautifulSoup(res.text, 'html.parser')\n",
    "raw_data = soup.find_all(\"td\", class_ = \"data_0_0\")\n",
    "for i in range(7,600,20):\n",
    "    print(raw_data[i].text)"
   ]
  },
  {
   "cell_type": "code",
   "execution_count": null,
   "metadata": {},
   "outputs": [],
   "source": []
  },
  {
   "cell_type": "code",
   "execution_count": null,
   "metadata": {},
   "outputs": [],
   "source": [
    "import sqlite3\n",
    "import pandas as pd\n",
    "\n",
    "db_name = 'weather_data.db'\n",
    "con = sqlite3.connect('db_name')\n",
    "CREATE TABLE cars(id,temperature,humidity);'\n"
   ]
  },
  {
   "cell_type": "code",
   "execution_count": 20,
   "metadata": {},
   "outputs": [],
   "source": [
    "import requests\n",
    "from bs4 import BeautifulSoup\n",
    "import sqlite3\n",
    "\n",
    "# SQLiteデータベースに接続\n",
    "conn = sqlite3.connect('weather_data.db')\n",
    "cursor = conn.cursor()\n",
    "\n",
    "# テーブルが存在しない場合は作成\n",
    "cursor.execute('''\n",
    "    CREATE TABLE IF NOT EXISTS min_temperatures (\n",
    "        id INTEGER PRIMARY KEY AUTOINCREMENT,\n",
    "        temperature REAL\n",
    "    )\n",
    "''')\n",
    "conn.commit()\n",
    "\n",
    "# ページの取得\n",
    "res = requests.get(\"https://www.data.jma.go.jp/stats/etrn/view/daily_s1.php?prec_no=44&block_no=47662&year=2023&month=12&day=&view=\")\n",
    "soup = BeautifulSoup(res.text, 'html.parser')\n",
    "raw_data = soup.find_all(\"td\", class_=\"data_0_0\")\n",
    "\n",
    "# データをリストに追加\n",
    "temperature_list = [float(raw_data[i].text) for i in range(7, 600, 20)]\n",
    "\n",
    "# リストのデータをデータベースに挿入\n",
    "for temperature in temperature_list:\n",
    "    cursor.execute('INSERT INTO min_temperatures (temperature) VALUES (?)', (temperature,))\n",
    "conn.commit()\n",
    "\n",
    "# データベース接続を閉じる\n",
    "conn.close()\n"
   ]
  },
  {
   "cell_type": "code",
   "execution_count": 18,
   "metadata": {},
   "outputs": [
    {
     "name": "stdout",
     "output_type": "stream",
     "text": [
      "54\n",
      "60\n",
      "58\n",
      "53\n",
      "64\n",
      "77\n",
      "60\n",
      "49\n",
      "66\n",
      "65\n",
      "74\n",
      "92\n",
      "52\n",
      "62\n",
      "82\n",
      "71\n",
      "36\n",
      "36\n",
      "53\n",
      "59\n",
      "41\n",
      "38\n",
      "47\n",
      "55\n",
      "56\n",
      "58\n",
      "50\n",
      "56\n",
      "61\n",
      "63\n"
     ]
    }
   ],
   "source": [
    "#平均気圧\n",
    "import requests\n",
    "from bs4 import BeautifulSoup\n",
    "res = requests.get(\"https://www.data.jma.go.jp/stats/etrn/view/daily_s1.php?prec_no=44&block_no=47662&year=2023&month=12&day=&view=\")\n",
    "soup = BeautifulSoup(res.text, 'html.parser')\n",
    "raw_data = soup.find_all(\"td\", class_ = \"data_0_0\")\n",
    "for i in range(8,600,20):\n",
    "    print(raw_data[i].text)"
   ]
  },
  {
   "cell_type": "code",
   "execution_count": null,
   "metadata": {},
   "outputs": [],
   "source": []
  }
 ],
 "metadata": {
  "kernelspec": {
   "display_name": "Python 3",
   "language": "python",
   "name": "python3"
  },
  "language_info": {
   "codemirror_mode": {
    "name": "ipython",
    "version": 3
   },
   "file_extension": ".py",
   "mimetype": "text/x-python",
   "name": "python",
   "nbconvert_exporter": "python",
   "pygments_lexer": "ipython3",
   "version": "3.9.10"
  }
 },
 "nbformat": 4,
 "nbformat_minor": 2
}
